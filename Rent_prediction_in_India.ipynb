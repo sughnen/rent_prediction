{
 "cells": [
  {
   "cell_type": "code",
   "execution_count": 446,
   "id": "c8c9023b",
   "metadata": {},
   "outputs": [],
   "source": [
    "import warnings\n",
    "\n",
    "import numpy as np\n",
    "import pandas as pd\n",
    "import plotly.express as px\n",
    "import plotly.graph_objects as go\n",
    "from sklearn.impute import SimpleImputer\n",
    "from sklearn.linear_model import LinearRegression\n",
    "from sklearn.metrics import mean_absolute_error\n",
    "from sklearn.pipeline import Pipeline, make_pipeline\n",
    "from sklearn.utils.validation import check_is_fitted\n",
    "import matplotlib.pyplot as plt\n",
    "from sklearn.preprocessing import OneHotEncoder\n",
    "from sklearn.linear_model import LinearRegression, Ridge\n",
    "from category_encoders import OneHotEncoder\n",
    "from ipywidgets import Dropdown, FloatSlider, IntSlider, interact"
   ]
  },
  {
   "cell_type": "code",
   "execution_count": 447,
   "id": "2984dffe",
   "metadata": {},
   "outputs": [],
   "source": [
    "df = pd.read_csv(\"House_Rent_Dataset.csv\")"
   ]
  },
  {
   "cell_type": "code",
   "execution_count": 448,
   "id": "571c6ff7",
   "metadata": {
    "scrolled": true
   },
   "outputs": [
    {
     "data": {
      "text/plain": [
       "(4746, 12)"
      ]
     },
     "execution_count": 448,
     "metadata": {},
     "output_type": "execute_result"
    }
   ],
   "source": [
    "df.shape"
   ]
  },
  {
   "cell_type": "code",
   "execution_count": 449,
   "id": "210927e1",
   "metadata": {},
   "outputs": [],
   "source": [
    "#Creat a wrangle function and prepare you data\n",
    "def wrangle(filepath):\n",
    "    # Read CSV file\n",
    "    df = pd.read_csv(filepath)\n",
    "    #Subset data Unfurnished apartments with rent greater than 5000\n",
    "    \n",
    "    mask_status = df[\"Furnishing Status\"] == \"Unfurnished\"\n",
    "    mask_price = df[\"Rent\"] > 5000\n",
    "    df = df[mask_status & mask_price]\n",
    "    \n",
    "    # Subset data: Remove outliers for \"Size\"\n",
    "    low, high = df[\"Size\"].quantile([0.1, 0.9])\n",
    "    mask_area = df[\"Size\"].between(low, high)\n",
    "    df = df[mask_area]\n",
    "    \n",
    "    #Drop low-high cardinallity feature variables\n",
    "    df.drop(columns=[\"Posted On\",\"Tenant Preferred\",\"Point of Contact\", \"City\",\"Furnishing Status\",\"Floor\",\"Bathroom\"], inplace=True)\n",
    "    return df\n",
    "    "
   ]
  },
  {
   "cell_type": "code",
   "execution_count": 450,
   "id": "74def1a2",
   "metadata": {},
   "outputs": [
    {
     "data": {
      "text/plain": [
       "(1377, 5)"
      ]
     },
     "execution_count": 450,
     "metadata": {},
     "output_type": "execute_result"
    }
   ],
   "source": [
    "df = wrangle(\"House_Rent_Dataset.csv\")\n",
    "df.shape"
   ]
  },
  {
   "cell_type": "code",
   "execution_count": 451,
   "id": "d2a26a4e",
   "metadata": {},
   "outputs": [
    {
     "data": {
      "text/html": [
       "<div>\n",
       "<style scoped>\n",
       "    .dataframe tbody tr th:only-of-type {\n",
       "        vertical-align: middle;\n",
       "    }\n",
       "\n",
       "    .dataframe tbody tr th {\n",
       "        vertical-align: top;\n",
       "    }\n",
       "\n",
       "    .dataframe thead th {\n",
       "        text-align: right;\n",
       "    }\n",
       "</style>\n",
       "<table border=\"1\" class=\"dataframe\">\n",
       "  <thead>\n",
       "    <tr style=\"text-align: right;\">\n",
       "      <th></th>\n",
       "      <th>BHK</th>\n",
       "      <th>Rent</th>\n",
       "      <th>Size</th>\n",
       "      <th>AreaType</th>\n",
       "      <th>AreaLocality</th>\n",
       "    </tr>\n",
       "  </thead>\n",
       "  <tbody>\n",
       "    <tr>\n",
       "      <th>0</th>\n",
       "      <td>2</td>\n",
       "      <td>10000</td>\n",
       "      <td>1100</td>\n",
       "      <td>Super Area</td>\n",
       "      <td>Bandel</td>\n",
       "    </tr>\n",
       "    <tr>\n",
       "      <th>3</th>\n",
       "      <td>2</td>\n",
       "      <td>10000</td>\n",
       "      <td>800</td>\n",
       "      <td>Super Area</td>\n",
       "      <td>Dumdum Park</td>\n",
       "    </tr>\n",
       "    <tr>\n",
       "      <th>4</th>\n",
       "      <td>2</td>\n",
       "      <td>7500</td>\n",
       "      <td>850</td>\n",
       "      <td>Carpet Area</td>\n",
       "      <td>South Dum Dum</td>\n",
       "    </tr>\n",
       "    <tr>\n",
       "      <th>5</th>\n",
       "      <td>2</td>\n",
       "      <td>7000</td>\n",
       "      <td>600</td>\n",
       "      <td>Super Area</td>\n",
       "      <td>Thakurpukur</td>\n",
       "    </tr>\n",
       "    <tr>\n",
       "      <th>6</th>\n",
       "      <td>2</td>\n",
       "      <td>10000</td>\n",
       "      <td>700</td>\n",
       "      <td>Super Area</td>\n",
       "      <td>Malancha</td>\n",
       "    </tr>\n",
       "    <tr>\n",
       "      <th>8</th>\n",
       "      <td>2</td>\n",
       "      <td>26000</td>\n",
       "      <td>800</td>\n",
       "      <td>Carpet Area</td>\n",
       "      <td>Palm Avenue Kolkata, Ballygunge</td>\n",
       "    </tr>\n",
       "    <tr>\n",
       "      <th>13</th>\n",
       "      <td>1</td>\n",
       "      <td>5500</td>\n",
       "      <td>375</td>\n",
       "      <td>Carpet Area</td>\n",
       "      <td>Dum Dum Metro</td>\n",
       "    </tr>\n",
       "    <tr>\n",
       "      <th>14</th>\n",
       "      <td>3</td>\n",
       "      <td>8500</td>\n",
       "      <td>900</td>\n",
       "      <td>Carpet Area</td>\n",
       "      <td>Paschim Barisha</td>\n",
       "    </tr>\n",
       "    <tr>\n",
       "      <th>17</th>\n",
       "      <td>2</td>\n",
       "      <td>10000</td>\n",
       "      <td>800</td>\n",
       "      <td>Super Area</td>\n",
       "      <td>Behala</td>\n",
       "    </tr>\n",
       "    <tr>\n",
       "      <th>19</th>\n",
       "      <td>2</td>\n",
       "      <td>6000</td>\n",
       "      <td>660</td>\n",
       "      <td>Super Area</td>\n",
       "      <td>Behala</td>\n",
       "    </tr>\n",
       "  </tbody>\n",
       "</table>\n",
       "</div>"
      ],
      "text/plain": [
       "    BHK   Rent  Size     AreaType                     AreaLocality\n",
       "0     2  10000  1100   Super Area                           Bandel\n",
       "3     2  10000   800   Super Area                      Dumdum Park\n",
       "4     2   7500   850  Carpet Area                    South Dum Dum\n",
       "5     2   7000   600   Super Area                      Thakurpukur\n",
       "6     2  10000   700   Super Area                         Malancha\n",
       "8     2  26000   800  Carpet Area  Palm Avenue Kolkata, Ballygunge\n",
       "13    1   5500   375  Carpet Area                    Dum Dum Metro\n",
       "14    3   8500   900  Carpet Area                  Paschim Barisha\n",
       "17    2  10000   800   Super Area                           Behala\n",
       "19    2   6000   660   Super Area                           Behala"
      ]
     },
     "execution_count": 451,
     "metadata": {},
     "output_type": "execute_result"
    }
   ],
   "source": [
    "df.head(10)"
   ]
  },
  {
   "cell_type": "code",
   "execution_count": 452,
   "id": "f41088ed",
   "metadata": {},
   "outputs": [
    {
     "data": {
      "image/png": "[encoded data removed]",
      "text/plain": [
       "<Figure size 432x288 with 1 Axes>"
      ]
     },
     "metadata": {
      "needs_background": "light"
     },
     "output_type": "display_data"
    }
   ],
   "source": [
    "# Create boxplot\n",
    "\n",
    "sns.boxplot(x=\"AreaType\", y=\"Rent\", data=df)\n",
    "\n",
    "# Label axes\n",
    "plt.xlabel(\"Area Type: [Location]\")\n",
    "plt.ylabel(\"Rent for Apartment\")\n",
    "plt.title(\"Number 0f devices vs Current Performance\");"
   ]
  },
  {
   "cell_type": "code",
   "execution_count": 453,
   "id": "79799058",
   "metadata": {},
   "outputs": [
    {
     "data": {
      "text/html": [
       "<div>\n",
       "<style scoped>\n",
       "    .dataframe tbody tr th:only-of-type {\n",
       "        vertical-align: middle;\n",
       "    }\n",
       "\n",
       "    .dataframe tbody tr th {\n",
       "        vertical-align: top;\n",
       "    }\n",
       "\n",
       "    .dataframe thead th {\n",
       "        text-align: right;\n",
       "    }\n",
       "</style>\n",
       "<table border=\"1\" class=\"dataframe\">\n",
       "  <thead>\n",
       "    <tr style=\"text-align: right;\">\n",
       "      <th></th>\n",
       "      <th>Rent</th>\n",
       "    </tr>\n",
       "    <tr>\n",
       "      <th>BHK</th>\n",
       "      <th></th>\n",
       "    </tr>\n",
       "  </thead>\n",
       "  <tbody>\n",
       "    <tr>\n",
       "      <th>1</th>\n",
       "      <td>13741.36</td>\n",
       "    </tr>\n",
       "    <tr>\n",
       "      <th>2</th>\n",
       "      <td>18923.74</td>\n",
       "    </tr>\n",
       "    <tr>\n",
       "      <th>5</th>\n",
       "      <td>22500.00</td>\n",
       "    </tr>\n",
       "    <tr>\n",
       "      <th>3</th>\n",
       "      <td>35716.12</td>\n",
       "    </tr>\n",
       "    <tr>\n",
       "      <th>4</th>\n",
       "      <td>74250.00</td>\n",
       "    </tr>\n",
       "  </tbody>\n",
       "</table>\n",
       "</div>"
      ],
      "text/plain": [
       "         Rent\n",
       "BHK          \n",
       "1    13741.36\n",
       "2    18923.74\n",
       "5    22500.00\n",
       "3    35716.12\n",
       "4    74250.00"
      ]
     },
     "execution_count": 453,
     "metadata": {},
     "output_type": "execute_result"
    }
   ],
   "source": [
    "#Continued data Exploration using pivot\n",
    "bed_rent_pivot =  pd.pivot_table(\n",
    "     df, index = \"BHK\", values = \"Rent\" , aggfunc = np.mean  \n",
    ").sort_values(by=\"Rent\")\n",
    "bed_rent_pivot.round(2)"
   ]
  },
  {
   "cell_type": "code",
   "execution_count": 454,
   "id": "82dfc95e",
   "metadata": {
    "scrolled": true
   },
   "outputs": [
    {
     "data": {
      "image/png": "[encoded data removed]",
      "text/plain": [
       "<Figure size 432x288 with 1 Axes>"
      ]
     },
     "metadata": {
      "needs_background": "light"
     },
     "output_type": "display_data"
    }
   ],
   "source": [
    "# Build histogram\n",
    "plt.hist(df[\"Size\"])\n",
    "# Label axes\n",
    "plt.xlabel(\"Rent\")\n",
    "# Add title\n",
    "plt.title(\"Distribution of Apartment Sizes Vs Rent\");"
   ]
  },
  {
   "cell_type": "code",
   "execution_count": 455,
   "id": "adba5a8e",
   "metadata": {},
   "outputs": [
    {
     "data": {
      "image/png": "[encoded data removed]",
      "text/plain": [
       "<Figure size 432x288 with 2 Axes>"
      ]
     },
     "metadata": {
      "needs_background": "light"
     },
     "output_type": "display_data"
    }
   ],
   "source": [
    "# select_dtypes is used to select numerical data\n",
    "corr = df.select_dtypes(\"number\").drop(columns=\"Rent\").corr()\n",
    "sns.heatmap(corr);"
   ]
  },
  {
   "cell_type": "code",
   "execution_count": 456,
   "id": "47fde06f",
   "metadata": {},
   "outputs": [
    {
     "name": "stdout",
     "output_type": "stream",
     "text": [
      "X_train shape: (1377, 4)\n",
      "y_train shape: (1377,)\n"
     ]
    }
   ],
   "source": [
    "# Split data into feature matrix `X_train` and target vector `y_train`.\n",
    "target = \"Rent\"\n",
    "features= [\"AreaType\",\"Size\",\"BHK\",\"AreaLocality\"]\n",
    "y_train = df[target]\n",
    "X_train = df[features]\n",
    "print(\"X_train shape:\", X_train.shape)\n",
    "print(\"y_train shape:\", y_train.shape)"
   ]
  },
  {
   "cell_type": "code",
   "execution_count": 457,
   "id": "1840993f",
   "metadata": {},
   "outputs": [
    {
     "name": "stdout",
     "output_type": "stream",
     "text": [
      "Mean apt price: 19700.31\n",
      "Baseline MAE: 13353.499644802649\n"
     ]
    }
   ],
   "source": [
    "#Calculate the baseline mean absolute error for your model.\n",
    "y_mean = y_train.mean()\n",
    "y_pred_baseline = [y_mean]*len(y_train)\n",
    "print(\"Mean apt price:\", round(y_mean, 2))\n",
    "print(\"Baseline MAE:\", mean_absolute_error(y_train, y_pred_baseline))"
   ]
  },
  {
   "cell_type": "code",
   "execution_count": 458,
   "id": "43e84585",
   "metadata": {},
   "outputs": [
    {
     "data": {
      "text/plain": [
       "Pipeline(steps=[('onehotencoder',\n",
       "                 OneHotEncoder(cols=['AreaType', 'AreaLocality'],\n",
       "                               use_cat_names=True)),\n",
       "                ('simpleimputer', SimpleImputer()), ('ridge', Ridge())])"
      ]
     },
     "execution_count": 458,
     "metadata": {},
     "output_type": "execute_result"
    }
   ],
   "source": [
    "#Instantiate OneHotEncoder\n",
    "ohe = OneHotEncoder()\n",
    "\n",
    "#Iterate your model\n",
    "model = make_pipeline(\n",
    "OneHotEncoder(use_cat_names=True),\n",
    "SimpleImputer(),\n",
    "Ridge()\n",
    ")\n",
    "model.fit(X_train, y_train)"
   ]
  },
  {
   "cell_type": "code",
   "execution_count": 459,
   "id": "d2275602",
   "metadata": {},
   "outputs": [],
   "source": [
    "# Check your work\n",
    "check_is_fitted(model[-1])"
   ]
  },
  {
   "cell_type": "code",
   "execution_count": 460,
   "id": "c5ac961c",
   "metadata": {},
   "outputs": [
    {
     "name": "stdout",
     "output_type": "stream",
     "text": [
      "Training MAE: 6005.654243508775\n"
     ]
    }
   ],
   "source": [
    "#MODEL EVALUATION\n",
    "#CalculatING the training mean absolute error for your predictions as compared to the true targets in your y_train.\n",
    "\n",
    "y_pred_training = model.predict(X_train)\n",
    "print(\"Training MAE:\", mean_absolute_error(y_train, y_pred_training))"
   ]
  },
  {
   "cell_type": "code",
   "execution_count": 461,
   "id": "2535624c",
   "metadata": {},
   "outputs": [
    {
     "data": {
      "text/plain": [
       "0    12483.285698\n",
       "1     9611.525194\n",
       "2    17873.060243\n",
       "3     7300.625693\n",
       "4    13267.347217\n",
       "dtype: float64"
      ]
     },
     "execution_count": 461,
     "metadata": {},
     "output_type": "execute_result"
    }
   ],
   "source": [
    "#generating a list of predictions using your model.\n",
    "X_test = df[features]\n",
    "y_pred_test = pd.Series(model.predict(X_test))\n",
    "y_pred_test.head()"
   ]
  },
  {
   "cell_type": "code",
   "execution_count": 462,
   "id": "0de6891e",
   "metadata": {},
   "outputs": [],
   "source": [
    "#A function that make predictions (syntax from WorldQuand University)\n",
    "def make_prediction(AreaType, Size, BHK, AreaLocality):\n",
    "    data = {\n",
    "        \"AreaType\":AreaType,\n",
    "        \"Size\":Size,\n",
    "        \"BHK\":BHK,\n",
    "        \"AreaLocality\": AreaLocality\n",
    "    }\n",
    "    df = pd.DataFrame(data, index=[0])\n",
    "    prediction = model.predict(df).round(2)[0]\n",
    "    return f\"Predicted Rent price: {prediction}\""
   ]
  },
  {
   "cell_type": "code",
   "execution_count": 463,
   "id": "eb9a6d83",
   "metadata": {},
   "outputs": [
    {
     "data": {
      "text/plain": [
       "'Predicted Rent price: 6390.02'"
      ]
     },
     "execution_count": 463,
     "metadata": {},
     "output_type": "execute_result"
    }
   ],
   "source": [
    "make_prediction(\"Carpet Area\",800, 1, \"Paschim Barisha\")"
   ]
  },
  {
   "cell_type": "code",
   "execution_count": 465,
   "id": "4946a7d7",
   "metadata": {},
   "outputs": [
    {
     "data": {
      "application/vnd.jupyter.widget-view+json": {
       "model_id": "5b12913d8993418e8f2ccd2b511b1678",
       "version_major": 2,
       "version_minor": 0
      },
      "text/plain": [
       "interactive(children=(Dropdown(description='AreaType', options=('Built Area', 'Carpet Area', 'Super Area'), va…"
      ]
     },
     "metadata": {},
     "output_type": "display_data"
    }
   ],
   "source": [
    "   # Creating and interactive function\n",
    "interact(\n",
    "        make_prediction,\n",
    "        AreaType=Dropdown(options=sorted(X_train[\"AreaType\"].unique())\n",
    "        ),\n",
    "            Size=FloatSlider(\n",
    "                min=X_train[\"Size\"].min(),\n",
    "                max=X_train[\"Size\"].max(),\n",
    "                step=0.01,\n",
    "                value=X_train[\"Size\"].mean(),\n",
    "            ),\n",
    "            BHK=FloatSlider(\n",
    "                min=X_train[\"BHK\"].min(),\n",
    "                max=X_train[\"BHK\"].max(),\n",
    "                step=0.01,\n",
    "                value=X_train[\"BHK\"].mean(),\n",
    "            ),\n",
    "            AreaLocality=Dropdown(options=sorted(X_train[\"AreaLocality\"].unique())),\n",
    "     );"
   ]
  },
  {
   "cell_type": "code",
   "execution_count": null,
   "id": "3e9f5888",
   "metadata": {},
   "outputs": [],
   "source": []
  }
 ],
 "metadata": {
  "kernelspec": {
   "display_name": "Python 3 (ipykernel)",
   "language": "python",
   "name": "python3"
  },
  "language_info": {
   "codemirror_mode": {
    "name": "ipython",
    "version": 3
   },
   "file_extension": ".py",
   "mimetype": "text/x-python",
   "name": "python",
   "nbconvert_exporter": "python",
   "pygments_lexer": "ipython3",
   "version": "3.9.12"
  }
 },
 "nbformat": 4,
 "nbformat_minor": 5
}
